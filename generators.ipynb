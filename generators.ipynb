{
 "cells": [
  {
   "cell_type": "markdown",
   "source": [
    "# Python Concepts for Data Science: Generators "
   ],
   "metadata": {}
  },
  {
   "cell_type": "markdown",
   "source": [
    "![python generators](generators.jpg)\n",
    "Source : [Try To Program](http://www.trytoprogram.com)"
   ],
   "metadata": {}
  },
  {
   "cell_type": "markdown",
   "source": [
    "A generator is a special type of pyton function that returns an iterator (generator) object. Contrary to the normal function, a generator uses the **yield** statement intead of **return**."
   ],
   "metadata": {}
  },
  {
   "cell_type": "markdown",
   "source": [
    "## 1. Generator syntax and examples\r\n",
    "\r\n",
    "###  a. Syntax\r\n",
    "As can be shown on cover image, the syntax of a python generator is as follows:\r\n",
    "\r\n",
    " - Generator function\r\n",
    "\r\n",
    "`def gen_name(arguments):\r\n",
    "        List of instructions\r\n",
    "        yield result`\r\n",
    "            \r\n",
    " - Generator expression\r\n",
    " \r\n",
    "` (exp for exp in collection if condition)`\r\n",
    " "
   ],
   "metadata": {}
  },
  {
   "cell_type": "markdown",
   "source": [
    "#### b. Examples\n",
    "\n",
    " \n",
    "Throughout this article, we will be working with a dummy dataframe named `color` that contains 8 color names associated with their matplotlib and hexadecimal or html codes."
   ],
   "metadata": {}
  },
  {
   "cell_type": "code",
   "execution_count": 1,
   "source": [
    "import pandas as pd\r\n",
    "\r\n",
    "data = {'color_name': ['blue', 'red', 'black', 'white', 'magenta', 'green', 'cyan', 'yellow'],\r\n",
    "        'plt_code' : ['b', 'r', 'k', 'w', 'm', 'g', 'c', 'y'],\r\n",
    "        'hex_code' : ['#0000ff', '#ff0000', '#000000', '#ffffff', '#ff00ff', '#008000', '#00ffff', '#ffff00']}\r\n",
    "\r\n",
    "color = pd.DataFrame(data)"
   ],
   "outputs": [],
   "metadata": {}
  },
  {
   "cell_type": "markdown",
   "source": [
    "To make sure our dataframe has the expected shape and organization, let's print its first few rows."
   ],
   "metadata": {}
  },
  {
   "cell_type": "code",
   "execution_count": 2,
   "source": [
    "color.head(4)"
   ],
   "outputs": [
    {
     "output_type": "execute_result",
     "data": {
      "text/html": [
       "<div>\n",
       "<style scoped>\n",
       "    .dataframe tbody tr th:only-of-type {\n",
       "        vertical-align: middle;\n",
       "    }\n",
       "\n",
       "    .dataframe tbody tr th {\n",
       "        vertical-align: top;\n",
       "    }\n",
       "\n",
       "    .dataframe thead th {\n",
       "        text-align: right;\n",
       "    }\n",
       "</style>\n",
       "<table border=\"1\" class=\"dataframe\">\n",
       "  <thead>\n",
       "    <tr style=\"text-align: right;\">\n",
       "      <th></th>\n",
       "      <th>color_name</th>\n",
       "      <th>plt_code</th>\n",
       "      <th>hex_code</th>\n",
       "    </tr>\n",
       "  </thead>\n",
       "  <tbody>\n",
       "    <tr>\n",
       "      <th>0</th>\n",
       "      <td>blue</td>\n",
       "      <td>b</td>\n",
       "      <td>#0000ff</td>\n",
       "    </tr>\n",
       "    <tr>\n",
       "      <th>1</th>\n",
       "      <td>red</td>\n",
       "      <td>r</td>\n",
       "      <td>#ff0000</td>\n",
       "    </tr>\n",
       "    <tr>\n",
       "      <th>2</th>\n",
       "      <td>black</td>\n",
       "      <td>k</td>\n",
       "      <td>#000000</td>\n",
       "    </tr>\n",
       "    <tr>\n",
       "      <th>3</th>\n",
       "      <td>white</td>\n",
       "      <td>w</td>\n",
       "      <td>#ffffff</td>\n",
       "    </tr>\n",
       "  </tbody>\n",
       "</table>\n",
       "</div>"
      ],
      "text/plain": [
       "  color_name plt_code hex_code\n",
       "0       blue        b  #0000ff\n",
       "1        red        r  #ff0000\n",
       "2      black        k  #000000\n",
       "3      white        w  #ffffff"
      ]
     },
     "metadata": {},
     "execution_count": 2
    }
   ],
   "metadata": {}
  },
  {
   "cell_type": "markdown",
   "source": [
    "To illustrate the concept of generator function, let's create a generator `read_df` that takes two positional arguments namely: <br>\n",
    "`df`, a [Pandas Dataframe](https://pandas.pydata.org/docs/reference/api/pandas.DataFrame.html) and `column`, the name of one of its columns and yields a generator object of all the elements of that column in the dataframe."
   ],
   "metadata": {}
  },
  {
   "cell_type": "code",
   "execution_count": 15,
   "source": [
    "def read_df(df, column):\r\n",
    "    \"\"\"Returns a generator of column elements\"\"\"\r\n",
    "    for elt in df[column]:\r\n",
    "        yield elt"
   ],
   "outputs": [],
   "metadata": {}
  },
  {
   "cell_type": "markdown",
   "source": [
    "It is very important to notice how the `yield` statement is under a for loop. This is a special characteristic of python generator functions. Unlike conventional functions, the `yield` statement can be used more than once. Another special, the most relevant characteristic of generators is that they don't store a list of objects into the memory. When instanciated, the elements of a genertor are accessible one at a time using the function `next`. The current element is stored and calling `next` again retrives the following one up to the last, after what a [StopIteration error](https://docs.python.org/3/library/exceptions.html#StopIteration) is raised.\n",
    "\n",
    "In the example below, we create a generator object `name_gen` that holds all the values of the `name` column of `color` dataframe. "
   ],
   "metadata": {}
  },
  {
   "cell_type": "code",
   "execution_count": 16,
   "source": [
    "name_gen = read_df(df, 'color_name')"
   ],
   "outputs": [],
   "metadata": {}
  },
  {
   "cell_type": "markdown",
   "source": [
    "Now let's check the type of name_gen and print out its 3 first values. To do so, we need to call `next` three times."
   ],
   "metadata": {}
  },
  {
   "cell_type": "code",
   "execution_count": 17,
   "source": [
    "print(type(name_gen))\r\n",
    "\r\n",
    "print(next(name_gen))  # First value\r\n",
    "print(next(name_gen))   # Second value\r\n",
    "print(next(name_gen))    # Third value"
   ],
   "outputs": [
    {
     "output_type": "stream",
     "name": "stdout",
     "text": [
      "<class 'generator'>\n",
      "blue\n",
      "red\n",
      "black\n"
     ]
    }
   ],
   "metadata": {}
  },
  {
   "cell_type": "markdown",
   "source": [
    "The same iterator can be created using a `generator expression` which is a simpler way than gebnerator function."
   ],
   "metadata": {}
  },
  {
   "cell_type": "code",
   "execution_count": 20,
   "source": [
    "name_gen1 = (item for item in color['color_name'])"
   ],
   "outputs": [],
   "metadata": {}
  },
  {
   "cell_type": "code",
   "execution_count": 22,
   "source": [
    "print(type(name_gen1))\r\n",
    "\r\n",
    "print(next(name_gen1))  # First value\r\n",
    "print(next(name_gen1))   # Second value\r\n",
    "print(next(name_gen1))    # Third value"
   ],
   "outputs": [
    {
     "output_type": "stream",
     "name": "stdout",
     "text": [
      "<class 'generator'>\n",
      "blue\n",
      "red\n",
      "black\n"
     ]
    }
   ],
   "metadata": {}
  },
  {
   "cell_type": "markdown",
   "source": [
    "## 2. Advantages of python genarators \n",
    "\n",
    "The python generators provide programmers with the followings advantages, over other concepts used for the same task.\n",
    "\n",
    "### a. Easy Implementation\n",
    "An iterator class can be used to create iterators, just like genrators do. However, compared to thr iterator class, the implementation of a generator is simlpe, easy and require less lines of code. Let's illustrate this by creating an itrator class `Timestwo` and a generator function `timestwo` that perform the same operation: multiply a given stream by two in the item level."
   ],
   "metadata": {}
  },
  {
   "cell_type": "code",
   "execution_count": 28,
   "source": [
    "# iterator class\r\n",
    "class Timestwo:\r\n",
    "    def __init__(self, n_iter=0):\r\n",
    "        self.n = 0\r\n",
    "        self.n_iter = n_iter\r\n",
    "\r\n",
    "    def __iter__(self):\r\n",
    "        return self\r\n",
    "\r\n",
    "    def __next__(self):\r\n",
    "        if self.n > self.n_iter:\r\n",
    "            raise StopIteration\r\n",
    "\r\n",
    "        result = self.n * 2\r\n",
    "        self.n += 1\r\n",
    "        return result\r\n",
    "    \r\n",
    "# Generator function\r\n",
    "def timestwo(n_iter=0):\r\n",
    "    n = 0\r\n",
    "    while n < n_iter:\r\n",
    "        yield n * 2\r\n",
    "        n += 1"
   ],
   "outputs": [],
   "metadata": {}
  },
  {
   "cell_type": "markdown",
   "source": [
    "The difference in complexity between the two code snippets is quite clear. Defining the iterator class requires much more code than defining the generator function. Besides, the generator code is highly legible and understandable than its Iterator class counterpart."
   ],
   "metadata": {}
  },
  {
   "cell_type": "markdown",
   "source": [
    "### b. Memory efficiency\n",
    "If we want a function to draw all the values from a certain of a given dataframe, the only way to achieve this is by storing these values as list or another dataframe. For the `color` dataframe, this won't be a problem since ecvery column consists of only 8 values. For larger dataframes with hundreds of thousands, or even millions of values, this can become very memory consuming. In this case a generator would be the most relevant solution.  "
   ],
   "metadata": {}
  },
  {
   "cell_type": "markdown",
   "source": [
    "### c. Infinite stream representation\n",
    "\n",
    "Related to memory efficiency, a generator is the most suited way to represent infinite stream of data. In fact, infinite stream of data cannot hold into memory, thus need to be treated one after another or by chunks.\n",
    "\n",
    "For example, the `mult_three` generator function can theoretically generate all the integers that are divisible by three."
   ],
   "metadata": {}
  },
  {
   "cell_type": "code",
   "execution_count": 63,
   "source": [
    "def mult_three():\r\n",
    "    n = 0\r\n",
    "    while True:\r\n",
    "        yield n\r\n",
    "        n += 3"
   ],
   "outputs": [],
   "metadata": {}
  },
  {
   "cell_type": "code",
   "execution_count": 64,
   "source": [
    "by_three = mult_three()\r\n",
    "next(by_three)"
   ],
   "outputs": [
    {
     "output_type": "execute_result",
     "data": {
      "text/plain": [
       "0"
      ]
     },
     "metadata": {},
     "execution_count": 64
    }
   ],
   "metadata": {}
  },
  {
   "cell_type": "markdown",
   "source": [
    "Contrary to the conventional function, a call to `mult_three` won't freeze the program."
   ],
   "metadata": {}
  },
  {
   "cell_type": "markdown",
   "source": [
    "### 3. When to avoid using python generators \n",
    "\n",
    "Like any other python concept, genrators are very useful but not perfect in that they aren't always the best fit in all ths situations involving stream of data. Below are few cases where generators should be avoided.\n",
    "\n",
    "* You need to acces data multiple times, a generator allows to acces data only once;\n",
    "* You need to randomnly draw an element from a stream of data;\n",
    "* You need to join strings. A list is the best fit because this process requires two passes over data."
   ],
   "metadata": {}
  }
 ],
 "metadata": {
  "kernelspec": {
   "name": "python3",
   "display_name": "Python 3.8.8 64-bit ('base': conda)"
  },
  "language_info": {
   "codemirror_mode": {
    "name": "ipython",
    "version": 3
   },
   "file_extension": ".py",
   "mimetype": "text/x-python",
   "name": "python",
   "nbconvert_exporter": "python",
   "pygments_lexer": "ipython3",
   "version": "3.8.8"
  },
  "interpreter": {
   "hash": "b3ba2566441a7c06988d0923437866b63cedc61552a5af99d1f4fb67d367b25f"
  }
 },
 "nbformat": 4,
 "nbformat_minor": 5
}